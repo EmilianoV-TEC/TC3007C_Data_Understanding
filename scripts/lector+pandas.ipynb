{
  "nbformat": 4,
  "nbformat_minor": 0,
  "metadata": {
    "colab": {
      "provenance": []
    },
    "kernelspec": {
      "name": "python3",
      "display_name": "Python 3"
    },
    "language_info": {
      "name": "python"
    }
  },
  "cells": [
    {
      "cell_type": "code",
      "execution_count": 14,
      "metadata": {
        "colab": {
          "base_uri": "https://localhost:8080/",
          "height": 245
        },
        "id": "h3vQYOBE0jlc",
        "outputId": "46ddbadb-2e1d-4805-9460-8f9db8c66cc0"
      },
      "outputs": [
        {
          "output_type": "error",
          "ename": "FileNotFoundError",
          "evalue": "ignored",
          "traceback": [
            "\u001b[0;31m---------------------------------------------------------------------------\u001b[0m",
            "\u001b[0;31mFileNotFoundError\u001b[0m                         Traceback (most recent call last)",
            "\u001b[0;32m<ipython-input-14-e7431e82b262>\u001b[0m in \u001b[0;36m<cell line: 25>\u001b[0;34m()\u001b[0m\n\u001b[1;32m     23\u001b[0m \u001b[0;34m\u001b[0m\u001b[0m\n\u001b[1;32m     24\u001b[0m \u001b[0;31m# Itera sobre los archivos en el directorio\u001b[0m\u001b[0;34m\u001b[0m\u001b[0;34m\u001b[0m\u001b[0m\n\u001b[0;32m---> 25\u001b[0;31m \u001b[0marchivos\u001b[0m \u001b[0;34m=\u001b[0m \u001b[0mos\u001b[0m\u001b[0;34m.\u001b[0m\u001b[0mlistdir\u001b[0m\u001b[0;34m(\u001b[0m\u001b[0mdirectorio\u001b[0m\u001b[0;34m)\u001b[0m\u001b[0;34m\u001b[0m\u001b[0;34m\u001b[0m\u001b[0m\n\u001b[0m\u001b[1;32m     26\u001b[0m \u001b[0;32mfor\u001b[0m \u001b[0marchivo\u001b[0m \u001b[0;32min\u001b[0m \u001b[0marchivos\u001b[0m\u001b[0;34m:\u001b[0m\u001b[0;34m\u001b[0m\u001b[0;34m\u001b[0m\u001b[0m\n\u001b[1;32m     27\u001b[0m     \u001b[0mread_conteo\u001b[0m\u001b[0;34m(\u001b[0m\u001b[0marchivo\u001b[0m\u001b[0;34m)\u001b[0m\u001b[0;34m\u001b[0m\u001b[0;34m\u001b[0m\u001b[0m\n",
            "\u001b[0;31mFileNotFoundError\u001b[0m: [Errno 2] No such file or directory: 'ruta..ruta..ruta'"
          ]
        }
      ],
      "source": [
        "import os\n",
        "import pandas as pd\n",
        "\n",
        "# Directorio que contiene los archivos CSV\n",
        "directorio = \"ruta..ruta..ruta\"\n",
        "\n",
        "# Listas para almacenar los nombres de los archivos\n",
        "archivos_con_1 = []\n",
        "archivos_descartados = []\n",
        "\n",
        "# Función para verificar si un archivo debe ser renombrado\n",
        "def read_conteo(archivo):\n",
        "    try:\n",
        "        # Lee el archivo CSV en un DataFrame de Pandas\n",
        "        df = pd.read_csv(os.path.join(directorio, archivo))\n",
        "        # Verifica si hay al menos un 1 en la columna \"Stable cruise\"\n",
        "        if 1 in df[\"Target\"].values:\n",
        "            archivos_con_1.append(archivo)\n",
        "        else:\n",
        "            archivos_descartados.append(archivo)\n",
        "    except Exception as e:\n",
        "        print(f\"Error al procesar el archivo {archivo}: {str(e)}\")\n",
        "\n",
        "# Itera sobre los archivos en el directorio\n",
        "archivos = os.listdir(directorio)\n",
        "for archivo in archivos:\n",
        "    read_conteo(archivo)\n",
        "\n",
        "# Imprime los nombres de los archivos en las listas\n",
        "print(\"Hay\",len(archivos_con_1),\"con al menos un 1\")\n",
        "print(\"Hay\",len(archivos_descartados),\"archivos descartados\")\n",
        "\n",
        "\n",
        "print(\"Archivos con al menos un 1:\", archivos_con_1)\n",
        "print(\"Archivos descartados:\", archivos_descartados,)"
      ]
    },
    {
      "cell_type": "code",
      "source": [],
      "metadata": {
        "id": "ko07jJEW0kTO"
      },
      "execution_count": null,
      "outputs": []
    }
  ]
}